version https://git-lfs.github.com/spec/v1
oid sha256:df58103bce5701288080f8f35ab59326807f6aa5715e0fda74915e72f9bb66a4
size 1486134
